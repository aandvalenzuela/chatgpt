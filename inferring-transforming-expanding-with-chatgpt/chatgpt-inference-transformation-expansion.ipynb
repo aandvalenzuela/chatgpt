{
 "cells": [
  {
   "cell_type": "markdown",
   "id": "192cfff9-71ff-455e-aeb8-bca0aa58bed4",
   "metadata": {
    "tags": []
   },
   "source": [
    "# What I Learned from OpenAI's Course on Prompt Engineering - Inferring, Transforming and Expanding\n",
    "\n",
    "This notebook contains the collection of prompt examples to follow my Medium article on Inference, Transformation and Expansion tasks with ChatGPT.\n",
    "\n",
    "We will use this sample code below to call ChatGPT API with a desired prompt. Note that this structured is optimized to explicitly separate any text needed in the task from the rest of the prompt."
   ]
  },
  {
   "cell_type": "code",
   "execution_count": 1,
   "id": "cce20bdc-5e15-4cf2-ba89-2ae4f6d35d43",
   "metadata": {
    "tags": []
   },
   "outputs": [],
   "source": [
    "import openai\n",
    "import os\n",
    "\n",
    "openai.api_key_path = \"/Users/avalenzu/ChatGPT/gpt-token.txt\"\n",
    "\n",
    "def get_completion(prompt, model=\"gpt-3.5-turbo\"):\n",
    "    \"\"\"\n",
    "    This function calls ChatGPT API with a given prompt\n",
    "    and returns the response back.\n",
    "    \"\"\"\n",
    "    messages = [{\"role\": \"user\", \"content\": prompt}]\n",
    "    response = openai.ChatCompletion.create(\n",
    "        model=model,\n",
    "        messages=messages,\n",
    "        temperature=0\n",
    "    )\n",
    "    return response.choices[0].message[\"content\"]\n",
    "\n",
    "user_text = f\"\"\"\n",
    "<Any given text>\n",
    "\"\"\"\n",
    "\n",
    "prompt = f\"\"\"\n",
    "Given prompt with additional text:\n",
    "\n",
    "\\\"\\\"\\\"{user_text}\\\"\\\"\\\"\n",
    "\"\"\"\n",
    "\n",
    "# A simple call to ChatGPT\n",
    "response = get_completion(prompt)"
   ]
  },
  {
   "cell_type": "markdown",
   "id": "c18014f1-c3fe-489e-a658-a8d4c909fb53",
   "metadata": {
    "tags": []
   },
   "source": [
    "## 1. Inference Tasks\n",
    "\n",
    "### Sentiment analysis"
   ]
  },
  {
   "cell_type": "code",
   "execution_count": 2,
   "id": "3e681b80-4db4-46a5-9d13-184d6dca352d",
   "metadata": {
    "tags": []
   },
   "outputs": [],
   "source": [
    "lamp_review = \"\"\"\n",
    "Needed a nice lamp for my bedroom, and this one had \\\\\n",
    "additional storage and not too high of a price point. \\\\\n",
    "Got it fast.  The string to our lamp broke during the \\\\\n",
    "transit and the company happily sent over a new one. \\\\\n",
    "Came within a few days as well. It was easy to put \\\\\n",
    "together.  I had a missing part, so I contacted their \\\\\n",
    "support and they very quickly got me the missing piece! \\\\\n",
    "Lumina seems to me to be a great company that cares \\\\\n",
    "about their customers and products!!\n",
    "\"\"\""
   ]
  },
  {
   "cell_type": "code",
   "execution_count": 3,
   "id": "69e46060-3afa-45d0-ac13-0850212cfc36",
   "metadata": {},
   "outputs": [
    {
     "name": "stdout",
     "output_type": "stream",
     "text": [
      "positive\n"
     ]
    }
   ],
   "source": [
    "prompt = f\"\"\"\n",
    "What is the sentiment of the following product review,\n",
    "which is delimited with triple backticks?\n",
    "Give your answer as a single word, either \"positive\" \\\\\n",
    "or \"negative\".\n",
    "Review text: '''{lamp_review}'''\n",
    "\"\"\"\n",
    "response = get_completion(prompt)\n",
    "print(response)"
   ]
  },
  {
   "cell_type": "code",
   "execution_count": 4,
   "id": "a1a90c19-36c7-4d32-b053-832e38292867",
   "metadata": {},
   "outputs": [
    {
     "name": "stdout",
     "output_type": "stream",
     "text": [
      "happy, satisfied, grateful, impressed, content\n"
     ]
    }
   ],
   "source": [
    "prompt = f\"\"\"\n",
    "Identify a list of emotions that the writer of the \\\\\n",
    "following review is expressing. Include no more than \\\\\n",
    "five items in the list. Format your answer as a list of \\\\\n",
    "lower-case words separated by commas.\n",
    "Review text: '''{lamp_review}'''\n",
    "\"\"\"\n",
    "response = get_completion(prompt)\n",
    "print(response)"
   ]
  },
  {
   "cell_type": "markdown",
   "id": "88820f23-01e6-432f-904d-4e33dbf61e23",
   "metadata": {},
   "source": [
    "### Topic Inference"
   ]
  },
  {
   "cell_type": "code",
   "execution_count": 5,
   "id": "d4a45cd3-d8ad-4444-8d8e-e2cfe4481310",
   "metadata": {},
   "outputs": [],
   "source": [
    "story = \"\"\"\n",
    "In a recent survey conducted by the government,\n",
    "public sector employees were asked to rate their level\n",
    "of satisfaction with the department they work at.\n",
    "The results revealed that NASA was the most popular\n",
    "department with a satisfaction rating of 95%.\n",
    "One NASA employee, John Smith, commented on the findings,\n",
    "stating, \"I'm not surprised that NASA came out on top.\n",
    "It's a great place to work with amazing people and\n",
    "incredible opportunities. I'm proud to be a part of\n",
    "such an innovative organization.\"\n",
    "The results were also welcomed by NASA's management team,\n",
    "with Director Tom Johnson stating, \"We are thrilled to\n",
    "hear that our employees are satisfied with their work at NASA.\n",
    "We have a talented and dedicated team who work tirelessly\n",
    "to achieve our goals, and it's fantastic to see that their\n",
    "hard work is paying off.\"\n",
    "The survey also revealed that the\n",
    "Social Security Administration had the lowest satisfaction\n",
    "rating, with only 45% of employees indicating they were\n",
    "satisfied with their job. The government has pledged to\n",
    "address the concerns raised by employees in the survey and\n",
    "work towards improving job satisfaction across all departments.\n",
    "\"\"\""
   ]
  },
  {
   "cell_type": "code",
   "execution_count": 6,
   "id": "681da5ba-6cdd-41f1-9133-15287b648ce3",
   "metadata": {},
   "outputs": [
    {
     "name": "stdout",
     "output_type": "stream",
     "text": [
      "government survey, job satisfaction, NASA, Social Security Administration, employee satisfaction\n"
     ]
    }
   ],
   "source": [
    "prompt = f\"\"\"\n",
    "Determine five topics that are being discussed in the \\\\\n",
    "following text, which is delimited by triple backticks.\n",
    "Make each item one or two words long.\n",
    "Format your response as a list of items separated by commas.\n",
    "Text sample: '''{story}'''\n",
    "\"\"\"\n",
    "response = get_completion(prompt)\n",
    "print(response)"
   ]
  },
  {
   "cell_type": "markdown",
   "id": "e4bd5121-9e93-4bcd-b617-dd9efb295bf7",
   "metadata": {},
   "source": [
    "## 2. Transformation Tasks\n",
    "\n",
    "### Language Translations"
   ]
  },
  {
   "cell_type": "code",
   "execution_count": 7,
   "id": "412f28f4-a36a-45d5-a8ad-c3b00701734b",
   "metadata": {},
   "outputs": [
    {
     "name": "stdout",
     "output_type": "stream",
     "text": [
      "French: Je veux commander un ballon de basket-ball\n",
      "Spanish: Quiero ordenar un balón de baloncesto\n"
     ]
    }
   ],
   "source": [
    "prompt = f\"\"\"\n",
    "Translate the following  text to French and Spanish: \\\\\n",
    "```I want to order a basketball```\n",
    "\"\"\"\n",
    "response = get_completion(prompt)\n",
    "print(response)"
   ]
  },
  {
   "cell_type": "code",
   "execution_count": 20,
   "id": "886e2c89-05ac-4497-a3c3-fe1b71a38580",
   "metadata": {},
   "outputs": [],
   "source": [
    "user_reviews = [\n",
    "  \"La performance du système est plus lente que d'habitude.\",  # System performance is slower than normal\n",
    "  \"Mi monitor tiene píxeles que no se iluminan.\",              # My monitor has pixels that are not lighting\n",
    "  \"Il mio mouse non funziona\",                                 # My mouse is not working\n",
    "  \"Mój klawisz Ctrl jest zepsuty\",                             # My keyboard has a broken control key\n",
    "  \"我的屏幕在闪烁\"                                               # My screen is flashing\n",
    "]"
   ]
  },
  {
   "cell_type": "code",
   "execution_count": 19,
   "id": "e2437301-a953-411b-8419-b88ea2ca9687",
   "metadata": {
    "tags": []
   },
   "outputs": [
    {
     "name": "stdout",
     "output_type": "stream",
     "text": [
      "Original message (French.): La performance du système est plus lente que d'habitude.\n",
      "English: \"The system performance is slower than usual.\"\n",
      "Korean: \"시스템 성능이 평소보다 느립니다.\"\n",
      "---------------------------------------------------\n",
      "Original message (Spanish.): Mi monitor tiene píxeles que no se iluminan.\n",
      "English: \"My monitor has pixels that don't light up.\"\n",
      "Korean: \"내 모니터에는 불이 켜지지 않는 픽셀이 있습니다.\"\n",
      "---------------------------------------------------\n",
      "Original message (Italian): Il mio mouse non funziona\n",
      "English: \"My mouse is not working.\"\n",
      "Korean: \"내 마우스가 작동하지 않습니다.\"\n",
      "---------------------------------------------------\n",
      "Original message (Polish): Mój klawisz Ctrl jest zepsuty\n",
      "English: \"My Ctrl key is broken\"\n",
      "Korean: \"제 Ctrl 키가 고장 났어요\"\n",
      "---------------------------------------------------\n",
      "Original message (Chinese): 我的屏幕在闪烁\n",
      "English: \"My screen is flickering\"\n",
      "Korean: \"내 화면이 깜빡입니다\"\n",
      "---------------------------------------------------\n"
     ]
    }
   ],
   "source": [
    "import time\n",
    "\n",
    "for review in user_reviews:\n",
    "    prompt = f\"Output the language of this review in one word: ```{review}```\"\n",
    "    lang = get_completion(prompt)\n",
    "    print(f\"Original message ({lang}): {review}\")\n",
    "\n",
    "    prompt = f\"\"\"\n",
    "    Translate the review to English and Korean: ```{review}```\n",
    "    \"\"\"\n",
    "    response = get_completion(prompt)\n",
    "    time.sleep(20)\n",
    "    print(response)\n",
    "    print(\"---------------------------------------------------\")"
   ]
  },
  {
   "cell_type": "markdown",
   "id": "a2b6a286-6500-467c-a53c-e760d00a2993",
   "metadata": {},
   "source": [
    "### Writing Style and Tone"
   ]
  },
  {
   "cell_type": "code",
   "execution_count": 11,
   "id": "4c9cc2fb-4dbb-49a6-b901-73f298377dec",
   "metadata": {
    "tags": []
   },
   "outputs": [
    {
     "name": "stdout",
     "output_type": "stream",
     "text": [
      "Dear Sir/Madam,\n",
      "\n",
      "I am writing to bring to your attention a standing lamp that I believe may be of interest to you. Please find attached the specifications for your review.\n",
      "\n",
      "Thank you for your time and consideration.\n",
      "\n",
      "Sincerely,\n",
      "\n",
      "Joe\n"
     ]
    }
   ],
   "source": [
    "prompt = f\"\"\"\n",
    "Translate the following from slang to a business letter:\n",
    "'Dude, This is Joe, check out this spec on this standing lamp.'\n",
    "\"\"\"\n",
    "response = get_completion(prompt)\n",
    "print(response)"
   ]
  },
  {
   "cell_type": "code",
   "execution_count": 12,
   "id": "c0a057d1-d293-4135-b19f-0b170966fff9",
   "metadata": {},
   "outputs": [
    {
     "name": "stdout",
     "output_type": "stream",
     "text": [
      "Pirate: Arrr, I be wantin' to lay me hands on a fine basketball, matey!\n",
      "\n",
      "Plato: It is my desire to place an order for a spherical object commonly referred to as a basketball.\n"
     ]
    }
   ],
   "source": [
    "prompt = f\"\"\"\n",
    "Translate the following text to English pirate and Platon style: \\\\\n",
    "```I want to order a basketball```\n",
    "\"\"\"\n",
    "response = get_completion(prompt)\n",
    "print(response)"
   ]
  },
  {
   "cell_type": "markdown",
   "id": "2735e2a1-aa0c-420c-a951-6638c857adcd",
   "metadata": {},
   "source": [
    "### Correction and Proofreading Tool"
   ]
  },
  {
   "cell_type": "code",
   "execution_count": 13,
   "id": "fa187104-efdf-49c5-b17f-66dda9fd6b59",
   "metadata": {},
   "outputs": [
    {
     "name": "stdout",
     "output_type": "stream",
     "text": [
      "Got this for my daughter's birthday because she keeps taking mine from my room. Yes, adults also like pandas too. She takes it everywhere with her, and it's super soft and cute. However, one of the ears is a bit lower than the other, and I don't think that was designed to be asymmetrical. Additionally, it's a bit small for what I paid for it. I think there might be other options that are bigger for the same price. On the positive side, it arrived a day earlier than expected, so I got to play with it myself before I gave it to my daughter.\n"
     ]
    }
   ],
   "source": [
    "text = f\"\"\"\n",
    "Got this for my daughter for her birthday cuz she keeps taking \\\\\n",
    "mine from my room.  Yes, adults also like pandas too.  She takes \\\\\n",
    "it everywhere with her, and it's super soft and cute.  One of the \\\\\n",
    "ears is a bit lower than the other, and I don't think that was \\\\\n",
    "designed to be asymmetrical. It's a bit small for what I paid for it \\\\\n",
    "though. I think there might be other options that are bigger for \\\\\n",
    "the same price.  It arrived a day earlier than expected, so I got \\\\\n",
    "to play with it myself before I gave it to my daughter.\n",
    "\"\"\"\n",
    "prompt = f\"proofread and correct this review: ```{text}```\"\n",
    "response = get_completion(prompt)\n",
    "print(response)"
   ]
  },
  {
   "cell_type": "markdown",
   "id": "36d03caf-8d32-4894-943d-5deba6132520",
   "metadata": {},
   "source": [
    "### Formatting"
   ]
  },
  {
   "cell_type": "code",
   "execution_count": 14,
   "id": "bd400396-5886-4d37-9583-8b5bbe2d1d92",
   "metadata": {},
   "outputs": [],
   "source": [
    "data_json = { \"resturant employees\" :[\n",
    "    {\"name\":\"Shyam\", \"email\":\"shyamjaiswal@gmail.com\"},\n",
    "    {\"name\":\"Bob\", \"email\":\"bob32@gmail.com\"},\n",
    "    {\"name\":\"Jai\", \"email\":\"jai87@gmail.com\"}\n",
    "]}"
   ]
  },
  {
   "cell_type": "code",
   "execution_count": 16,
   "id": "a19b18fa-8f5b-478f-93d6-bf11702f6190",
   "metadata": {},
   "outputs": [
    {
     "data": {
      "text/html": [
       "<table>\n",
       "  <caption>Restaurant Employees</caption>\n",
       "  <thead>\n",
       "    <tr>\n",
       "      <th>Name</th>\n",
       "      <th>Email</th>\n",
       "    </tr>\n",
       "  </thead>\n",
       "  <tbody>\n",
       "    <tr>\n",
       "      <td>Shyam</td>\n",
       "      <td>shyamjaiswal@gmail.com</td>\n",
       "    </tr>\n",
       "    <tr>\n",
       "      <td>Bob</td>\n",
       "      <td>bob32@gmail.com</td>\n",
       "    </tr>\n",
       "    <tr>\n",
       "      <td>Jai</td>\n",
       "      <td>jai87@gmail.com</td>\n",
       "    </tr>\n",
       "  </tbody>\n",
       "</table>"
      ],
      "text/plain": [
       "<IPython.core.display.HTML object>"
      ]
     },
     "metadata": {},
     "output_type": "display_data"
    }
   ],
   "source": [
    "from IPython.display import display, HTML\n",
    "\n",
    "prompt = f\"\"\"\n",
    "Translate the following python dictionary from JSON to an HTML \\\\\n",
    "table with column headers and title: {data_json}\n",
    "\"\"\"\n",
    "response = get_completion(prompt)\n",
    "display(HTML(response))"
   ]
  },
  {
   "cell_type": "markdown",
   "id": "d190f237-42f8-4653-abc2-d53a7af1e285",
   "metadata": {
    "tags": []
   },
   "source": [
    "## 3. Expansion"
   ]
  },
  {
   "cell_type": "code",
   "execution_count": 17,
   "id": "e5fe070f-1bdc-461b-ab77-6cfcbf8c233f",
   "metadata": {},
   "outputs": [],
   "source": [
    "# given the sentiment from the section on \"inferring\"\n",
    "sentiment = \"negative\"\n",
    "\n",
    "# review for a blender\n",
    "review = f\"\"\"\n",
    "So, they still had the 17 piece system on seasonal \\\\\n",
    "sale for around $49 in the month of November, about \\\\\n",
    "half off, but for some reason (call it price gouging) \\\\\n",
    "around the second week of December the prices all went \\\\\n",
    "up to about anywhere from between $70-$89 for the same \\\\\n",
    "system. And the 11 piece system went up around $10 or \\\\\n",
    "so in price also from the earlier sale price of $29. \\\\\n",
    "So it looks okay, but if you look at the base, the part \\\\\n",
    "where the blade locks into place doesn't look as good \\\\\n",
    "as in previous editions from a few years ago, but I \\\\\n",
    "plan to be very gentle with it (example, I crush \\\\\n",
    "very hard items like beans, ice, rice, etc. in the \\\\\n",
    "blender first then pulverize them in the serving size \\\\\n",
    "I want in the blender then switch to the whipping \\\\\n",
    "blade for a finer flour, and use the cross cutting blade \\\\\n",
    "first when making smoothies, then use the flat blade \\\\\n",
    "if I need them finer/less pulpy). Special tip when making \\\\\n",
    "smoothies, finely cut and freeze the fruits and \\\\\n",
    "vegetables (if using spinach-lightly stew soften the \\\\\n",
    "spinach then freeze until ready for use-and if making \\\\\n",
    "sorbet, use a small to medium sized food processor) \\\\\n",
    "that you plan to use that way you can avoid adding so \\\\\n",
    "much ice if at all-when making your smoothie. \\\\\n",
    "After about a year, the motor was making a funny noise. \\\\\n",
    "I called customer service but the warranty expired \\\\\n",
    "already, so I had to buy another one. FYI: The overall \\\\\n",
    "quality has gone done in these types of products, so \\\\\n",
    "they are kind of counting on brand recognition and \\\\\n",
    "consumer loyalty to maintain sales. Got it in about \\\\\n",
    "two days.\n",
    "\"\"\""
   ]
  },
  {
   "cell_type": "code",
   "execution_count": 18,
   "id": "652fdb91-0594-4495-a047-b31c3e504286",
   "metadata": {},
   "outputs": [
    {
     "name": "stdout",
     "output_type": "stream",
     "text": [
      "Dear Valued Customer,\n",
      "\n",
      "Thank you for taking the time to leave a review about your recent purchase. We are sorry to hear that you experienced an issue with the motor after a year of use and that the prices of our products increased during the holiday season.\n",
      "\n",
      "We apologize for any inconvenience this may have caused you. If you have any further concerns, please do not hesitate to reach out to our customer service team for assistance.\n",
      "\n",
      "Thank you again for your feedback and for choosing our products. We appreciate your loyalty and hope to continue serving you in the future.\n",
      "\n",
      "Best regards,\n",
      "\n",
      "AI customer agent\n"
     ]
    }
   ],
   "source": [
    "prompt = f\"\"\"\n",
    "You are a customer service AI assistant.\n",
    "Your task is to send an email reply to a valued customer.\n",
    "Given the customer email delimited by ```, \\\\\n",
    "Generate a reply to thank the customer for their review.\n",
    "If the sentiment is positive or neutral, thank them for \\\\\n",
    "their review.\n",
    "If the sentiment is negative, apologize and suggest that \\\\\n",
    "they can reach out to customer service.\n",
    "Make sure to use specific details from the review.\n",
    "Write in a concise and professional tone.\n",
    "Sign the email as `AI customer agent`.\n",
    "Customer review: ```{review}```\n",
    "Review sentiment: {sentiment}\n",
    "\"\"\"\n",
    "response = get_completion(prompt)\n",
    "print(response)"
   ]
  },
  {
   "cell_type": "code",
   "execution_count": null,
   "id": "7809c615-f491-4f60-a831-d59d9752de77",
   "metadata": {},
   "outputs": [],
   "source": []
  }
 ],
 "metadata": {
  "kernelspec": {
   "display_name": "Python 3 (ipykernel)",
   "language": "python",
   "name": "python3"
  },
  "language_info": {
   "codemirror_mode": {
    "name": "ipython",
    "version": 3
   },
   "file_extension": ".py",
   "mimetype": "text/x-python",
   "name": "python",
   "nbconvert_exporter": "python",
   "pygments_lexer": "ipython3",
   "version": "3.9.12"
  }
 },
 "nbformat": 4,
 "nbformat_minor": 5
}
