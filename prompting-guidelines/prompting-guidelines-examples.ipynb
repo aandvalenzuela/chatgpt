{
 "cells": [
  {
   "cell_type": "markdown",
   "id": "192cfff9-71ff-455e-aeb8-bca0aa58bed4",
   "metadata": {
    "tags": []
   },
   "source": [
    "# What I Learned from OpenAI's Course on Prompt Engineering - Prompting Guidelines\n",
    "\n",
    "This notebook contains the collection of prompt examples to follow my Medium article on Prompting Guidelines.\n",
    "\n",
    "## Principle I: Be Clear and Specific\n",
    "\n",
    "### 1. Basic call structure - Use Delimiters\n",
    "Use the sample text below to call ChatGPT API with a desired prompt. Note that this structured is optimized to explicitly separate any text needed in the task from the rest of the prompt following the guideline on \"use delimiters\"."
   ]
  },
  {
   "cell_type": "code",
   "execution_count": 19,
   "id": "cce20bdc-5e15-4cf2-ba89-2ae4f6d35d43",
   "metadata": {
    "tags": []
   },
   "outputs": [],
   "source": [
    "import openai\n",
    "import os\n",
    "\n",
    "openai.api_key_path = \"/path/to/token\"\n",
    "\n",
    "def get_completion(prompt, model=\"gpt-3.5-turbo\"):\n",
    "    \"\"\"\n",
    "    This function calls ChatGPT API with a given prompt\n",
    "    and returns the response back.\n",
    "    \"\"\"\n",
    "    messages = [{\"role\": \"user\", \"content\": prompt}]\n",
    "    response = openai.ChatCompletion.create(\n",
    "        model=model,\n",
    "        messages=messages,\n",
    "        temperature=0\n",
    "    )\n",
    "    return response.choices[0].message[\"content\"]\n",
    "\n",
    "user_text = f\"\"\"\n",
    "<Any given text>\n",
    "\"\"\"\n",
    "\n",
    "prompt = f\"\"\"\n",
    "You will be provided with text delimited by triple quotes. \n",
    "Can you provide the summary of the text in 1500 words approximately?\n",
    "\n",
    "\\\"\\\"\\\"{user_text}\\\"\\\"\\\"\n",
    "\"\"\"\n",
    "\n",
    "# A simple call to ChatGPT\n",
    "response = get_completion(prompt)"
   ]
  },
  {
   "cell_type": "markdown",
   "id": "88820f23-01e6-432f-904d-4e33dbf61e23",
   "metadata": {},
   "source": [
    "### 2. Structured Output"
   ]
  },
  {
   "cell_type": "code",
   "execution_count": 20,
   "id": "d4a45cd3-d8ad-4444-8d8e-e2cfe4481310",
   "metadata": {},
   "outputs": [
    {
     "name": "stdout",
     "output_type": "stream",
     "text": [
      "{\n",
      "    \"title\": \"Harry Potter and the Philosopher's Stone\",\n",
      "    \"author\": \"J.K. Rowling\",\n",
      "    \"genre\": \"Fantasy\",\n",
      "    \"publication date\": \"June 26, 1997\"\n",
      "}\n"
     ]
    }
   ],
   "source": [
    "user_book=\"I would like to buy the first book of Harry Potter\"\n",
    "\n",
    "prompt = f\"\"\"\n",
    "The user will provide to you a book request. \\\n",
    "Provide the following information in JSON format with the keys: \\\n",
    "title, author, genre and publication date. \\\n",
    "\n",
    "Book Request: \\\"\\\"\\\"{user_book}\\\"\\\"\\\"\n",
    "\"\"\"\n",
    "response = get_completion(prompt)\n",
    "print(response)"
   ]
  },
  {
   "cell_type": "markdown",
   "id": "e4bd5121-9e93-4bcd-b617-dd9efb295bf7",
   "metadata": {},
   "source": [
    "### 3. Check Conditions"
   ]
  },
  {
   "cell_type": "code",
   "execution_count": 25,
   "id": "412f28f4-a36a-45d5-a8ad-c3b00701734b",
   "metadata": {},
   "outputs": [
    {
     "name": "stdout",
     "output_type": "stream",
     "text": [
      "Step 1 - Fill the base chamber with cold water up to the level of the valve and insert the filter.\n",
      "Step 2 - Fill the filter with ground coffee.\n",
      "Step 3 - Place the moka pot on the stove and keep the heat low.\n",
      "Step 4 - Remove the pot from heat just when coffee starts to gurgle.\n",
      "\n"
     ]
    }
   ],
   "source": [
    "text = f\"\"\"\n",
    "Making a cup of coffee in an Italian cofee machine is easy! \\\n",
    "First, you need to fill the base chamber with cold water up \\ \n",
    "to the level of the valve and insert the filter. \\ \n",
    "Then, you can fill the filter with ground coffee. \\ \n",
    "Place the moka pot on the stove and keep the heat low. \\\n",
    "Finally, remove the pot from heat just when coffee starts  \\\n",
    "to gurgle. And that's it!\n",
    "\"\"\"\n",
    "prompt = f\"\"\"\n",
    "You will be provided with text delimited by triple quotes. \n",
    "If it contains a sequence of instructions, \\ \n",
    "re-write those instructions in the following format:\n",
    "\n",
    "Step 1 - ...\n",
    "Step 2 - …\n",
    "…\n",
    "Step N - …\n",
    "\n",
    "If the text does not contain a sequence of instructions, \\ \n",
    "then simply write \\\"No steps provided.\\\"\n",
    "\n",
    "\\\"\\\"\\\"{text}\\\"\\\"\\\"\n",
    "\"\"\"\n",
    "\n",
    "response = get_completion(prompt)\n",
    "print(response)"
   ]
  },
  {
   "cell_type": "code",
   "execution_count": 23,
   "id": "886e2c89-05ac-4497-a3c3-fe1b71a38580",
   "metadata": {},
   "outputs": [
    {
     "name": "stdout",
     "output_type": "stream",
     "text": [
      "No steps provided.\n"
     ]
    }
   ],
   "source": [
    "text = f\"\"\"\n",
    "The sun is shining brightly today, and the birds are \\\n",
    "singing. It's a beautiful day to go for a \\ \n",
    "walk in the park. The flowers are blooming, and the \\ \n",
    "trees are swaying gently in the breeze. People \\ \n",
    "are out and about, enjoying the lovely weather. \\ \n",
    "Some are having picnics, while others are playing \\ \n",
    "games or simply relaxing on the grass. It's a \\ \n",
    "perfect day to spend time outdoors and appreciate the \\ \n",
    "beauty of nature.\n",
    "\"\"\"\n",
    "prompt = f\"\"\"\n",
    "You will be provided with text delimited by triple quotes. \n",
    "If it contains a sequence of instructions, \\ \n",
    "re-write those instructions in the following format:\n",
    "\n",
    "Step 1 - ...\n",
    "Step 2 - …\n",
    "…\n",
    "Step N - …\n",
    "\n",
    "If the text does not contain a sequence of instructions, \\ \n",
    "then simply write \\\"No steps provided.\\\"\n",
    "\n",
    "\\\"\\\"\\\"{text}\\\"\\\"\\\"\n",
    "\"\"\"\n",
    "response = get_completion(prompt)\n",
    "print(response)"
   ]
  },
  {
   "cell_type": "markdown",
   "id": "a2b6a286-6500-467c-a53c-e760d00a2993",
   "metadata": {},
   "source": [
    "### 4. Few-Shot Prompting\n",
    "\n",
    "⚠️ *This example has been taken from the [OpenAI's original course](https://learn.deeplearning.ai/chatgpt-prompt-eng/lesson/1/introduction)*."
   ]
  },
  {
   "cell_type": "code",
   "execution_count": 26,
   "id": "4c9cc2fb-4dbb-49a6-b901-73f298377dec",
   "metadata": {},
   "outputs": [
    {
     "name": "stdout",
     "output_type": "stream",
     "text": [
      "<grandparent>: Resilience is like a tree that bends with the wind but never breaks. It is the ability to bounce back from adversity and keep moving forward, even when things get tough. Just like a tree that grows stronger with each storm it weathers, resilience is a quality that can be developed and strengthened over time.\n"
     ]
    }
   ],
   "source": [
    "prompt = f\"\"\"\n",
    "Your task is to answer in a consistent style.\n",
    "\n",
    "<child>: Teach me about patience.\n",
    "\n",
    "<grandparent>: The river that carves the deepest \\ \n",
    "valley flows from a modest spring; the \\ \n",
    "grandest symphony originates from a single note; \\ \n",
    "the most intricate tapestry begins with a solitary thread.\n",
    "\n",
    "<child>: Teach me about resilience.\n",
    "\"\"\"\n",
    "response = get_completion(prompt)\n",
    "print(response)"
   ]
  },
  {
   "cell_type": "markdown",
   "id": "d190f237-42f8-4653-abc2-d53a7af1e285",
   "metadata": {
    "tags": []
   },
   "source": [
    "## Principle II: Give the Model Time to \"Think\"\n",
    "\n",
    "### Specify the Intermediate Steps to do the Task"
   ]
  },
  {
   "cell_type": "code",
   "execution_count": 32,
   "id": "e5fe070f-1bdc-461b-ab77-6cfcbf8c233f",
   "metadata": {},
   "outputs": [],
   "source": [
    "text = f\"\"\"\n",
    "Making a cup of coffee in an Italian cofee machine is easy! \\\n",
    "First, you need to fill the base chamber with cold water up \\ \n",
    "to the level of the valve and insert the filter. \\ \n",
    "Then, you can fill the filter with ground coffee. \\ \n",
    "Place the moka pot on the stove and keep the heat low. \\\n",
    "Finally, remove the pot from heat just when coffee starts  \\\n",
    "to gurgle. And that's it!\n",
    "\"\"\""
   ]
  },
  {
   "cell_type": "code",
   "execution_count": 33,
   "id": "5fe4265f-fbe6-4d63-ad51-4dd28b066808",
   "metadata": {},
   "outputs": [
    {
     "name": "stdout",
     "output_type": "stream",
     "text": [
      "- café\n",
      "- máquina de café\n",
      "- cámara de base\n",
      "- agua fría\n",
      "- nivel de la válvula\n",
      "- filtro\n",
      "- café molido\n",
      "- cafetera moka\n",
      "- estufa\n",
      "- calor bajo\n",
      "- gorgoteo\n"
     ]
    }
   ],
   "source": [
    "prompt = f\"\"\"\n",
    "Give me a list of all coffe-related word in Spanish from the text bellow\n",
    "\n",
    "Text: <{text}>\n",
    "\"\"\"\n",
    "response = get_completion(prompt)\n",
    "print(response)"
   ]
  },
  {
   "cell_type": "code",
   "execution_count": 34,
   "id": "ea836a3b-aaa6-457c-b500-bc48621616a2",
   "metadata": {},
   "outputs": [
    {
     "name": "stdout",
     "output_type": "stream",
     "text": [
      "1 - The text explains how to make coffee using an Italian coffee machine, by filling the base chamber with water, inserting the filter, adding ground coffee, placing the pot on the stove, and removing it from heat when the coffee starts to gurgle.\n",
      "2 - Hacer café en una cafetera italiana es fácil. Solo necesitas llenar la cámara base con agua fría, insertar el filtro, agregar café molido, poner la cafetera en la estufa y retirarla del fuego cuando el café comience a burbujear. \n",
      "3 - café, cafetera, agua, filtro, estufa\n",
      "4 - \n",
      "{\n",
      "  \"Text\": \"Making a cup of coffee in an Italian cofee machine is easy! First, you need to fill the base chamber with cold water up to the level of the valve and insert the filter. Then, you can fill the filter with ground coffee. Place the moka pot on the stove and keep the heat low. Finally, remove the pot from heat just when coffee starts  to gurgle. And that's it!\",\n",
      "  \"Summary\": \"The text explains how to make coffee using an Italian coffee machine, by filling the base chamber with water, inserting the filter, adding ground coffee, placing the pot on the stove, and removing it from heat when the coffee starts to gurgle.\",\n",
      "  \"Translation\": \"Hacer café en una cafetera italiana es fácil. Solo necesitas llenar la cámara base con agua fría, insertar el filtro, agregar café molido, poner la cafetera en la estufa y retirarla del fuego cuando el café comience a burbujear.\",\n",
      "  \"Words\": [\"café\", \"cafetera\", \"agua\", \"filtro\", \"estufa\"]\n",
      "}\n"
     ]
    }
   ],
   "source": [
    "prompt = f\"\"\"\n",
    "Your task is to perform the following actions: \n",
    "1 - Summarize the following text delimited by \n",
    "  <> with 2 sentences.\n",
    "2 - Translate the summary into Spanish.\n",
    "3 - List each coffe-related word in the Spanish summary.\n",
    "4 - Output a json object that contains the \n",
    "  following keys:\n",
    "\n",
    "Text: <text to summarize>\n",
    "Summary: <summary>\n",
    "Translation: <summary translation>\n",
    "Words: <list of coffe-related word in the Spanish summary >\n",
    "Output JSON: <json with summary and num_names>\n",
    "\n",
    "Text: <{text}>\n",
    "\"\"\"\n",
    "response = get_completion(prompt)\n",
    "print(response)"
   ]
  },
  {
   "cell_type": "markdown",
   "id": "dfea5936-742e-4253-bf3d-fd0e45f968db",
   "metadata": {},
   "source": [
    "### 2. Instruct the model to work out its own solution.\n",
    "\n",
    "\n",
    "⚠️ *This example has been taken from the [OpenAI's original course](https://learn.deeplearning.ai/chatgpt-prompt-eng/lesson/1/introduction)*."
   ]
  },
  {
   "cell_type": "code",
   "execution_count": 35,
   "id": "a97abce7-3d89-407e-8efe-a5f30670b6b8",
   "metadata": {},
   "outputs": [
    {
     "name": "stdout",
     "output_type": "stream",
     "text": [
      "The student's solution is correct.\n"
     ]
    }
   ],
   "source": [
    "prompt = f\"\"\"\n",
    "Determine if the student's solution is correct or not.\n",
    "\n",
    "Question:\n",
    "I'm building a solar power installation and I need \\\n",
    " help working out the financials. \n",
    "- Land costs $100 / square foot\n",
    "- I can buy solar panels for $250 / square foot\n",
    "- I negotiated a contract for maintenance that will cost \\ \n",
    "me a flat $100k per year, and an additional $10 / square \\\n",
    "foot\n",
    "What is the total cost for the first year of operations \n",
    "as a function of the number of square feet.\n",
    "\n",
    "Student's Solution:\n",
    "Let x be the size of the installation in square feet.\n",
    "Costs:\n",
    "1. Land cost: 100x\n",
    "2. Solar panel cost: 250x\n",
    "3. Maintenance cost: 100,000 + 100x\n",
    "Total cost: 100x + 250x + 100,000 + 100x = 450x + 100,000\n",
    "\"\"\"\n",
    "response = get_completion(prompt)\n",
    "print(response)"
   ]
  },
  {
   "cell_type": "code",
   "execution_count": 36,
   "id": "f4b22e0b-caf6-443d-9368-cf248cdc941e",
   "metadata": {},
   "outputs": [
    {
     "name": "stdout",
     "output_type": "stream",
     "text": [
      "Let x be the size of the installation in square feet.\n",
      "\n",
      "Costs:\n",
      "1. Land cost: 100x\n",
      "2. Solar panel cost: 250x\n",
      "3. Maintenance cost: 100,000 + 10x\n",
      "\n",
      "Total cost: 100x + 250x + 100,000 + 10x = 360x + 100,000\n",
      "\n",
      "Is the student's solution the same as actual solution just calculated:\n",
      "No\n",
      "\n",
      "Student grade:\n",
      "Incorrect\n"
     ]
    }
   ],
   "source": [
    "prompt = f\"\"\"\n",
    "Your task is to determine if the student's solution \\\n",
    "is correct or not.\n",
    "To solve the problem do the following:\n",
    "- First, work out your own solution to the problem. \n",
    "- Then compare your solution to the student's solution \\ \n",
    "and evaluate if the student's solution is correct or not. \n",
    "Don't decide if the student's solution is correct until \n",
    "you have done the problem yourself.\n",
    "\n",
    "Use the following format:\n",
    "Question:\n",
    "```\n",
    "question here\n",
    "```\n",
    "Student's solution:\n",
    "```\n",
    "student's solution here\n",
    "```\n",
    "Actual solution:\n",
    "```\n",
    "steps to work out the solution and your solution here\n",
    "```\n",
    "Is the student's solution the same as actual solution \\\n",
    "just calculated:\n",
    "```\n",
    "yes or no\n",
    "```\n",
    "Student grade:\n",
    "```\n",
    "correct or incorrect\n",
    "```\n",
    "\n",
    "Question:\n",
    "```\n",
    "I'm building a solar power installation and I need help \\\n",
    "working out the financials. \n",
    "- Land costs $100 / square foot\n",
    "- I can buy solar panels for $250 / square foot\n",
    "- I negotiated a contract for maintenance that will cost \\\n",
    "me a flat $100k per year, and an additional $10 / square \\\n",
    "foot\n",
    "What is the total cost for the first year of operations \\\n",
    "as a function of the number of square feet.\n",
    "``` \n",
    "Student's solution:\n",
    "```\n",
    "Let x be the size of the installation in square feet.\n",
    "Costs:\n",
    "1. Land cost: 100x\n",
    "2. Solar panel cost: 250x\n",
    "3. Maintenance cost: 100,000 + 100x\n",
    "Total cost: 100x + 250x + 100,000 + 100x = 450x + 100,000\n",
    "```\n",
    "Actual solution:\n",
    "\"\"\"\n",
    "response = get_completion(prompt)\n",
    "print(response)"
   ]
  }
 ],
 "metadata": {
  "kernelspec": {
   "display_name": "Python 3 (ipykernel)",
   "language": "python",
   "name": "python3"
  },
  "language_info": {
   "codemirror_mode": {
    "name": "ipython",
    "version": 3
   },
   "file_extension": ".py",
   "mimetype": "text/x-python",
   "name": "python",
   "nbconvert_exporter": "python",
   "pygments_lexer": "ipython3",
   "version": "3.9.12"
  }
 },
 "nbformat": 4,
 "nbformat_minor": 5
}
