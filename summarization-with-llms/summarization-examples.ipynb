{
 "cells": [
  {
   "cell_type": "markdown",
   "id": "4294aadc-4289-43f5-8007-172be2d9b44d",
   "metadata": {},
   "source": [
    "# Effective Summarization with ChatGPT\n",
    "\n",
    "## Prompt ChatGPT from a Jupyter Notebook"
   ]
  },
  {
   "cell_type": "code",
   "execution_count": 34,
   "id": "3816346b-8f5b-44e6-af85-088b97638863",
   "metadata": {},
   "outputs": [],
   "source": [
    "import openai\n",
    "import os\n",
    "\n",
    "openai.api_key_path = \"/path/to/token-file\"\n",
    "\n",
    "def get_completion(prompt, model=\"gpt-3.5-turbo\"):\n",
    "    \"\"\"\n",
    "    This function calls ChatGPT API with a given prompt\n",
    "    and returns the response back.\n",
    "    \"\"\"\n",
    "    messages = [{\"role\": \"user\", \"content\": prompt}]\n",
    "    response = openai.ChatCompletion.create(\n",
    "        model=model,\n",
    "        messages=messages,\n",
    "        temperature=0\n",
    "    )\n",
    "    return response.choices[0].message[\"content\"]"
   ]
  },
  {
   "cell_type": "markdown",
   "id": "49d6f858-e0f3-48aa-8887-bf631eb2d826",
   "metadata": {},
   "source": [
    "## E-commerce example"
   ]
  },
  {
   "cell_type": "code",
   "execution_count": 2,
   "id": "e0764817-504c-4477-81ce-b222f4d5bf56",
   "metadata": {},
   "outputs": [],
   "source": [
    "prod_review = \"\"\"\n",
    "I purchased this children's computer for my son, \\\n",
    "and he absolutely adores it. He spends hours exploring \\\n",
    "its various features and engaging with the educational games. \\\n",
    "The colorful design and intuitive interface make it easy for \\\n",
    "him to navigate. The computer is durable and built to \\\n",
    "withstand rough handling, which is perfect for active kids. \\\n",
    "My only minor gripe is that the volume could be a bit louder. \\\n",
    "Overall, it's an excellent educational toy that provides \\\n",
    "hours of fun and learning for my son. It arrived a day earlier\\\n",
    "than expected, so I got to play with it myself before I gave \\\n",
    "it to him.\n",
    "\"\"\""
   ]
  },
  {
   "cell_type": "code",
   "execution_count": 7,
   "id": "d1203978-b5da-4604-a805-0958160d9833",
   "metadata": {},
   "outputs": [
    {
     "name": "stdout",
     "output_type": "stream",
     "text": [
      "{\n",
      "    \"sentiment\": \"positive\",\n",
      "    \"summary\": \"Durable and engaging children's computer with intuitive interface and educational games. Volume could be louder.\",\n",
      "    \"review\": \"I purchased this children's computer for my son, and he absolutely adores it. He spends hours exploring its various features and engaging with the educational games. The colorful design and intuitive interface make it easy for him to navigate. The computer is durable and built to withstand rough handling, which is perfect for active kids. My only minor gripe is that the volume could be a bit louder. Overall, it's an excellent educational toy that provides hours of fun and learning for my son. It arrived a day earlierthan expected, so I got to play with it myself before I gave it to him.\"\n",
      "}\n"
     ]
    }
   ],
   "source": [
    "prompt = f\"\"\"\n",
    "Your task is to generate a short summary of a product\n",
    "review from an ecommerce site. \n",
    "\n",
    "Summarize the review below, delimited by triple \n",
    "backticks, in exactly 20 words. Output a json with the\n",
    "sentiment of the review, the summary and original review as keys.\n",
    "\n",
    "Review: ```{prod_review}```\n",
    "\"\"\"\n",
    "\n",
    "response = get_completion(prompt)\n",
    "print(response)"
   ]
  },
  {
   "cell_type": "code",
   "execution_count": 12,
   "id": "d0e6a2ee-a24b-4c26-88d5-9ecbca980854",
   "metadata": {},
   "outputs": [
    {
     "name": "stdout",
     "output_type": "stream",
     "text": [
      "{\n",
      "    \"sentiment\": \"positive\",\n",
      "    \"summary\": \"Durable and engaging children's computer with intuitive interface. Arrived a day earlier than expected.\",\n",
      "    \"review\": \"I purchased this children's computer for my son, and he absolutely adores it. He spends hours exploring its various features and engaging with the educational games. The colorful design and intuitive interface make it easy for him to navigate. The computer is durable and built to withstand rough handling, which is perfect for active kids. My only minor gripe is that the volume could be a bit louder. Overall, it's an excellent educational toy that provides hours of fun and learning for my son. It arrived a day earlierthan expected, so I got to play with it myself before I gave it to him.\"\n",
      "}\n"
     ]
    }
   ],
   "source": [
    "prompt = f\"\"\"\n",
    "Your task is to generate a short summary of a product\n",
    "review from an ecommerce site. \n",
    "\n",
    "Summarize the review below, delimited by triple \n",
    "backticks, in exactly 20 words and focusing on any aspects \\\n",
    "that mention shipping and delivery of the product.\n",
    "Output a json with the\n",
    "sentiment of the review, the summary and original review as keys.\n",
    "\n",
    "Review: ```{prod_review}```\n",
    "\"\"\"\n",
    "\n",
    "response = get_completion(prompt)\n",
    "print(response)"
   ]
  },
  {
   "cell_type": "code",
   "execution_count": 20,
   "id": "ef2f5ea5-0710-424d-9b25-26b80c65173b",
   "metadata": {},
   "outputs": [
    {
     "name": "stdout",
     "output_type": "stream",
     "text": [
      "Shipping: Arrived a day earlier than expected.\n"
     ]
    }
   ],
   "source": [
    "prompt = f\"\"\"\n",
    "Your task is to extract relevant information from \\ \n",
    "a product review from an ecommerce site to give \\\n",
    "feedback to the Shipping department. \n",
    "\n",
    "From the review below, delimited by triple quotes \\\n",
    "extract the information relevant to shipping and \\ \n",
    "delivery. Use exactly 100 characters. \n",
    "\n",
    "Review: ```{prod_review}```\n",
    "\"\"\"\n",
    "\n",
    "response = get_completion(prompt)\n",
    "print(response)"
   ]
  },
  {
   "cell_type": "code",
   "execution_count": 21,
   "id": "ef6eb041-3749-40d8-97c8-41f71545b791",
   "metadata": {},
   "outputs": [
    {
     "data": {
      "text/plain": [
       "46"
      ]
     },
     "execution_count": 21,
     "metadata": {},
     "output_type": "execute_result"
    }
   ],
   "source": [
    "len(\"Shipping: Arrived a day earlier than expected.\")"
   ]
  },
  {
   "cell_type": "markdown",
   "id": "d58227d9-d0f8-4b92-afe8-b392468e3057",
   "metadata": {},
   "source": [
    "## Automatization"
   ]
  },
  {
   "cell_type": "code",
   "execution_count": 22,
   "id": "9a932c24-8045-4a93-9efe-ab47fae72a8f",
   "metadata": {},
   "outputs": [],
   "source": [
    "reviews = [\n",
    "    \"The children's computer I bought for my daughter is absolutely fantastic! She loves it and can't get enough of the educational games. The delivery was fast and arrived right on time. Highly recommend!\",\n",
    "    \"I was really disappointed with the children's computer I received. It didn't live up to my expectations, and the educational games were not engaging at all. The delivery was delayed, which added to my frustration.\",\n",
    "    \"The children's computer is a great educational toy. My son enjoys playing with it and learning new things. However, the delivery took longer than expected, which was a bit disappointing.\",\n",
    "    \"I am extremely happy with the children's computer I purchased. It's highly interactive and keeps my kids entertained for hours. The delivery was swift and hassle-free.\",\n",
    "    \"The children's computer I ordered arrived damaged, and some of the features didn't work properly. It was a huge letdown, and the delivery was also delayed. Not a good experience overall.\"\n",
    "]"
   ]
  },
  {
   "cell_type": "code",
   "execution_count": 24,
   "id": "1d196fda-cf3a-4743-99a5-9085ddfe750f",
   "metadata": {},
   "outputs": [
    {
     "name": "stdout",
     "output_type": "stream",
     "text": [
      "1. Fantastic children's computer with fast delivery and engaging educational games.\n",
      "2. Disappointing children's computer with unengaging games and delayed delivery.\n",
      "3. Great educational toy with longer than expected delivery.\n",
      "4. Highly interactive children's computer with swift delivery.\n",
      "5. Damaged children's computer with malfunctioning features and delayed delivery. \n",
      "\n"
     ]
    }
   ],
   "source": [
    "prompt = f\"\"\"\n",
    "    Your task is to generate a short summary of each product \\ \n",
    "    review from an e-commerce site. \n",
    "\n",
    "    Summarize each of the given reviews below, delimited by triple \\\n",
    "    backticks in at most 20 words each. \n",
    "\n",
    "    Review: ```{reviews}```\n",
    "\"\"\"\n",
    "\n",
    "response = get_completion(prompt)\n",
    "print(response, \"\\n\")"
   ]
  },
  {
   "cell_type": "code",
   "execution_count": 37,
   "id": "8d0b1e67-942f-45ae-a2b7-d9d0b5f54d2e",
   "metadata": {},
   "outputs": [],
   "source": [
    "reviews = [\n",
    "    \"The children's computer I bought for my daughter is absolutely fantastic! She loves it and can't get enough of the educational games. The delivery was fast and arrived right on time. Highly recommend!\",\n",
    "    \"I was really disappointed with the children's computer I received. It didn't live up to my expectations, and the educational games were not engaging at all. The delivery was delayed, which added to my frustration.\",\n",
    "    \"The children's computer is a great educational toy. My son enjoys playing with it and learning new things. However, the delivery took longer than expected, which was a bit disappointing.\",\n",
    "    \"I am extremely happy with the children's computer I purchased. It's highly interactive and keeps my kids entertained for hours. The delivery was swift and hassle-free.\",\n",
    "    \"The children's computer I ordered arrived damaged, and some of the features didn't work properly. It was a huge letdown, and the delivery was also delayed. Not a good experience overall.\"\n",
    "]\n",
    "\n",
    "prompt = f\"\"\"\n",
    "    Your task is to generate a short summary of each product \\ \n",
    "    review from an e-commerce site. \n",
    "\n",
    "    Extract positive and negative information from each of the \\\n",
    "    given reviews below, delimited by triple \\\n",
    "    backticks in at most 20 words each. Extract information about \\\n",
    "    the delivery, if included. \\\n",
    "\n",
    "    Review: ```{reviews}```\n",
    "\"\"\""
   ]
  },
  {
   "cell_type": "code",
   "execution_count": 38,
   "id": "7db41905-389e-480f-ada6-a1158a3547a1",
   "metadata": {},
   "outputs": [
    {
     "name": "stdout",
     "output_type": "stream",
     "text": [
      "1. Positive: Fantastic children's computer, fast delivery. Highly recommend.\n",
      "2. Negative: Disappointing children's computer, unengaging games, delayed delivery.\n",
      "3. Positive: Great educational toy, son enjoys it. Delivery took longer than expected.\n",
      "4. Positive: Highly interactive children's computer, swift and hassle-free delivery.\n",
      "5. Negative: Damaged children's computer, some features didn't work, delayed delivery. \n",
      "\n"
     ]
    }
   ],
   "source": [
    "response = get_completion(prompt)\n",
    "print(response, \"\\n\")"
   ]
  },
  {
   "cell_type": "markdown",
   "id": "f8c34f2e-9289-4723-8404-1d062a4b67a2",
   "metadata": {},
   "source": [
    "## E-commerce: Final Iteration"
   ]
  },
  {
   "cell_type": "code",
   "execution_count": 43,
   "id": "143409d5-9fde-4a3a-931e-84a89ef5d6b0",
   "metadata": {},
   "outputs": [
    {
     "data": {
      "text/html": [
       "<table>\n",
       "  <tr>\n",
       "    <th>Sentiment</th>\n",
       "    <td>Positive</td>\n",
       "  </tr>\n",
       "  <tr>\n",
       "    <th>General Feedback</th>\n",
       "    <td>The children's computer is an excellent educational toy that provides hours of fun and learning for kids. The colorful design and intuitive interface make it easy to navigate.</td>\n",
       "  </tr>\n",
       "  <tr>\n",
       "    <th>Shipping and Delivery</th>\n",
       "    <td>The product arrived a day earlier than expected.</td>\n",
       "  </tr>\n",
       "</table>"
      ],
      "text/plain": [
       "<IPython.core.display.HTML object>"
      ]
     },
     "metadata": {},
     "output_type": "display_data"
    }
   ],
   "source": [
    "from IPython.display import display, HTML\n",
    "\n",
    "prompt = f\"\"\"\n",
    "Your task is to extract relevant information from \\ \n",
    "a product review from an ecommerce site to give \\\n",
    "feedback to the Shipping department and generic feedback from the product. \n",
    "\n",
    "From the review below, delimited by triple quotes \\\n",
    "construct an HTML table with the sentiment of the review, general feedback from\n",
    "the product in two sentences and information relevant to shipping and \\ \n",
    "delivery.\n",
    "\n",
    "Review: ```{prod_review}```\n",
    "\"\"\"\n",
    "\n",
    "response = get_completion(prompt)\n",
    "display(HTML(response))"
   ]
  }
 ],
 "metadata": {
  "kernelspec": {
   "display_name": "Python 3 (ipykernel)",
   "language": "python",
   "name": "python3"
  },
  "language_info": {
   "codemirror_mode": {
    "name": "ipython",
    "version": 3
   },
   "file_extension": ".py",
   "mimetype": "text/x-python",
   "name": "python",
   "nbconvert_exporter": "python",
   "pygments_lexer": "ipython3",
   "version": "3.9.12"
  }
 },
 "nbformat": 4,
 "nbformat_minor": 5
}
